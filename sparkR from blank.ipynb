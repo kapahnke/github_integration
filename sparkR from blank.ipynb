{
    "nbformat_minor": 1, 
    "cells": [
        {
            "execution_count": 1, 
            "cell_type": "code", 
            "metadata": {}, 
            "outputs": [
                {
                    "execution_count": 1, 
                    "metadata": {}, 
                    "data": {
                        "text/plain": "Java ref type org.apache.spark.api.java.JavaSparkContext id 0 "
                    }, 
                    "output_type": "execute_result"
                }
            ], 
            "source": "sc"
        }, 
        {
            "execution_count": 2, 
            "cell_type": "code", 
            "metadata": {}, 
            "outputs": [
                {
                    "ename": "ERROR", 
                    "evalue": "Error in eval(expr, envir, enclos): object 'sc.version' not found\n", 
                    "traceback": [
                        "Error in eval(expr, envir, enclos): object 'sc.version' not found\n"
                    ], 
                    "output_type": "error"
                }
            ], 
            "source": "sc.version"
        }, 
        {
            "execution_count": 3, 
            "cell_type": "code", 
            "metadata": {}, 
            "outputs": [
                {
                    "execution_count": 3, 
                    "metadata": {}, 
                    "data": {
                        "text/html": "'s'", 
                        "text/latex": "'s'", 
                        "text/markdown": "'s'", 
                        "text/plain": "[1] \"s\""
                    }, 
                    "output_type": "execute_result"
                }
            ], 
            "source": "Sys.getenv(c(\"BLUEMIX_RES_PLAN\"))"
        }, 
        {
            "execution_count": 4, 
            "cell_type": "code", 
            "metadata": {}, 
            "outputs": [
                {
                    "execution_count": 4, 
                    "metadata": {}, 
                    "data": {
                        "text/html": "'prod'", 
                        "text/latex": "'prod'", 
                        "text/markdown": "'prod'", 
                        "text/plain": "[1] \"prod\""
                    }, 
                    "output_type": "execute_result"
                }
            ], 
            "source": "Sys.getenv(c(\"APP_ENV_ENVIRONMENT\"))"
        }, 
        {
            "execution_count": null, 
            "cell_type": "code", 
            "metadata": {
                "collapsed": true
            }, 
            "outputs": [], 
            "source": "Sys.getenv(c(\"BLUEMIX_RES_PLAN\"))"
        }, 
        {
            "execution_count": 2, 
            "cell_type": "code", 
            "metadata": {}, 
            "outputs": [
                {
                    "execution_count": 2, 
                    "metadata": {}, 
                    "data": {
                        "text/html": "<table>\n<thead><tr><th></th><th scope=col>Year</th><th scope=col>Month</th><th scope=col>Day</th><th scope=col>Hour</th><th scope=col>Street</th><th scope=col>Borough</th><th scope=col>Other</th><th scope=col>NumberOfAccidents</th><th scope=col>Killed</th><th scope=col>Auto</th><th scope=col>Injured</th><th scope=col>AccidentswithDeaths</th><th scope=col>Taxi</th><th scope=col>AccidentsWithInjuries</th><th scope=col>Truck</th><th scope=col>Bus</th></tr></thead>\n<tbody>\n\t<tr><th scope=row>1</th><td>2014</td><td>10</td><td>28</td><td>15</td><td>west53st</td><td>manhattan</td><td>0</td><td>1</td><td>0</td><td>2</td><td>0</td><td>0</td><td>0</td><td>0</td><td>0</td><td>0</td></tr>\n\t<tr><th scope=row>2</th><td>2013</td><td>8</td><td>17</td><td>18</td><td>brdway</td><td>manhattan</td><td>1</td><td>1</td><td>0</td><td>0</td><td>1</td><td>0</td><td>0</td><td>1</td><td>0</td><td>0</td></tr>\n\t<tr><th scope=row>3</th><td>2013</td><td>3</td><td>27</td><td>12</td><td>nostrandav</td><td>brooklyn</td><td>0</td><td>1</td><td>0</td><td>2</td><td>0</td><td>0</td><td>0</td><td>0</td><td>0</td><td>0</td></tr>\n\t<tr><th scope=row>4</th><td>2014</td><td>11</td><td>2</td><td>19</td><td>9av</td><td>manhattan</td><td>1</td><td>1</td><td>0</td><td>1</td><td>0</td><td>0</td><td>0</td><td>0</td><td>0</td><td>0</td></tr>\n\t<tr><th scope=row>5</th><td>2012</td><td>10</td><td>20</td><td>0</td><td>stjohnspl</td><td>brooklyn</td><td>0</td><td>1</td><td>0</td><td>1</td><td>1</td><td>0</td><td>0</td><td>1</td><td>0</td><td>0</td></tr>\n\t<tr><th scope=row>6</th><td>2013</td><td>6</td><td>29</td><td>12</td><td>16av</td><td>brooklyn</td><td>0</td><td>1</td><td>0</td><td>2</td><td>0</td><td>0</td><td>0</td><td>0</td><td>0</td><td>0</td></tr>\n</tbody>\n</table>\n", 
                        "text/latex": "\\begin{tabular}{r|llllllllllllllll}\n  & Year & Month & Day & Hour & Street & Borough & Other & NumberOfAccidents & Killed & Auto & Injured & AccidentswithDeaths & Taxi & AccidentsWithInjuries & Truck & Bus\\\\\n\\hline\n\t1 & 2014 & 10 & 28 & 15 & west53st & manhattan & 0 & 1 & 0 & 2 & 0 & 0 & 0 & 0 & 0 & 0\\\\\n\t2 & 2013 & 8 & 17 & 18 & brdway & manhattan & 1 & 1 & 0 & 0 & 1 & 0 & 0 & 1 & 0 & 0\\\\\n\t3 & 2013 & 3 & 27 & 12 & nostrandav & brooklyn & 0 & 1 & 0 & 2 & 0 & 0 & 0 & 0 & 0 & 0\\\\\n\t4 & 2014 & 11 & 2 & 19 & 9av & manhattan & 1 & 1 & 0 & 1 & 0 & 0 & 0 & 0 & 0 & 0\\\\\n\t5 & 2012 & 10 & 20 & 0 & stjohnspl & brooklyn & 0 & 1 & 0 & 1 & 1 & 0 & 0 & 1 & 0 & 0\\\\\n\t6 & 2013 & 6 & 29 & 12 & 16av & brooklyn & 0 & 1 & 0 & 2 & 0 & 0 & 0 & 0 & 0 & 0\\\\\n\\end{tabular}\n", 
                        "text/plain": "  Year Month Day Hour     Street   Borough Other NumberOfAccidents Killed Auto\n1 2014    10  28   15   west53st manhattan     0                 1      0    2\n2 2013     8  17   18     brdway manhattan     1                 1      0    0\n3 2013     3  27   12 nostrandav  brooklyn     0                 1      0    2\n4 2014    11   2   19        9av manhattan     1                 1      0    1\n5 2012    10  20    0  stjohnspl  brooklyn     0                 1      0    1\n6 2013     6  29   12       16av  brooklyn     0                 1      0    2\n  Injured AccidentswithDeaths Taxi AccidentsWithInjuries Truck Bus\n1       0                   0    0                     0     0   0\n2       1                   0    0                     1     0   0\n3       0                   0    0                     0     0   0\n4       0                   0    0                     0     0   0\n5       1                   0    0                     1     0   0\n6       0                   0    0                     0     0   0"
                    }, 
                    "output_type": "execute_result"
                }
            ], 
            "source": "# The code was removed by DSX for sharing."
        }, 
        {
            "execution_count": 3, 
            "cell_type": "code", 
            "metadata": {}, 
            "outputs": [
                {
                    "output_type": "stream", 
                    "name": "stderr", 
                    "text": "Loading required package: httr\nLoading required package: RCurl\nLoading required package: bitops\n\nAttaching package: 'RCurl'\n\nThe following object is masked from 'package:SparkR':\n\n    base64\n\n"
                }, 
                {
                    "execution_count": 3, 
                    "metadata": {}, 
                    "data": {
                        "text/html": "<table>\n<thead><tr><th></th><th scope=col>Year</th><th scope=col>Month</th><th scope=col>Day</th><th scope=col>Hour</th><th scope=col>Street</th><th scope=col>Borough</th><th scope=col>Other</th><th scope=col>NumberOfAccidents</th><th scope=col>Killed</th><th scope=col>Auto</th><th scope=col>Injured</th><th scope=col>AccidentswithDeaths</th><th scope=col>Taxi</th><th scope=col>AccidentsWithInjuries</th><th scope=col>Truck</th><th scope=col>Bus</th></tr></thead>\n<tbody>\n\t<tr><th scope=row>1</th><td>2014</td><td>10</td><td>28</td><td>15</td><td>west53st</td><td>manhattan</td><td>0</td><td>1</td><td>0</td><td>2</td><td>0</td><td>0</td><td>0</td><td>0</td><td>0</td><td>0</td></tr>\n\t<tr><th scope=row>2</th><td>2013</td><td>8</td><td>17</td><td>18</td><td>brdway</td><td>manhattan</td><td>1</td><td>1</td><td>0</td><td>0</td><td>1</td><td>0</td><td>0</td><td>1</td><td>0</td><td>0</td></tr>\n\t<tr><th scope=row>3</th><td>2013</td><td>3</td><td>27</td><td>12</td><td>nostrandav</td><td>brooklyn</td><td>0</td><td>1</td><td>0</td><td>2</td><td>0</td><td>0</td><td>0</td><td>0</td><td>0</td><td>0</td></tr>\n\t<tr><th scope=row>4</th><td>2014</td><td>11</td><td>2</td><td>19</td><td>9av</td><td>manhattan</td><td>1</td><td>1</td><td>0</td><td>1</td><td>0</td><td>0</td><td>0</td><td>0</td><td>0</td><td>0</td></tr>\n\t<tr><th scope=row>5</th><td>2012</td><td>10</td><td>20</td><td>0</td><td>stjohnspl</td><td>brooklyn</td><td>0</td><td>1</td><td>0</td><td>1</td><td>1</td><td>0</td><td>0</td><td>1</td><td>0</td><td>0</td></tr>\n\t<tr><th scope=row>6</th><td>2013</td><td>6</td><td>29</td><td>12</td><td>16av</td><td>brooklyn</td><td>0</td><td>1</td><td>0</td><td>2</td><td>0</td><td>0</td><td>0</td><td>0</td><td>0</td><td>0</td></tr>\n</tbody>\n</table>\n", 
                        "text/latex": "\\begin{tabular}{r|llllllllllllllll}\n  & Year & Month & Day & Hour & Street & Borough & Other & NumberOfAccidents & Killed & Auto & Injured & AccidentswithDeaths & Taxi & AccidentsWithInjuries & Truck & Bus\\\\\n\\hline\n\t1 & 2014 & 10 & 28 & 15 & west53st & manhattan & 0 & 1 & 0 & 2 & 0 & 0 & 0 & 0 & 0 & 0\\\\\n\t2 & 2013 & 8 & 17 & 18 & brdway & manhattan & 1 & 1 & 0 & 0 & 1 & 0 & 0 & 1 & 0 & 0\\\\\n\t3 & 2013 & 3 & 27 & 12 & nostrandav & brooklyn & 0 & 1 & 0 & 2 & 0 & 0 & 0 & 0 & 0 & 0\\\\\n\t4 & 2014 & 11 & 2 & 19 & 9av & manhattan & 1 & 1 & 0 & 1 & 0 & 0 & 0 & 0 & 0 & 0\\\\\n\t5 & 2012 & 10 & 20 & 0 & stjohnspl & brooklyn & 0 & 1 & 0 & 1 & 1 & 0 & 0 & 1 & 0 & 0\\\\\n\t6 & 2013 & 6 & 29 & 12 & 16av & brooklyn & 0 & 1 & 0 & 2 & 0 & 0 & 0 & 0 & 0 & 0\\\\\n\\end{tabular}\n", 
                        "text/plain": "  Year Month Day Hour     Street   Borough Other NumberOfAccidents Killed Auto\n1 2014    10  28   15   west53st manhattan     0                 1      0    2\n2 2013     8  17   18     brdway manhattan     1                 1      0    0\n3 2013     3  27   12 nostrandav  brooklyn     0                 1      0    2\n4 2014    11   2   19        9av manhattan     1                 1      0    1\n5 2012    10  20    0  stjohnspl  brooklyn     0                 1      0    1\n6 2013     6  29   12       16av  brooklyn     0                 1      0    2\n  Injured AccidentswithDeaths Taxi AccidentsWithInjuries Truck Bus\n1       0                   0    0                     0     0   0\n2       1                   0    0                     1     0   0\n3       0                   0    0                     0     0   0\n4       0                   0    0                     0     0   0\n5       1                   0    0                     1     0   0\n6       0                   0    0                     0     0   0"
                    }, 
                    "output_type": "execute_result"
                }
            ], 
            "source": "# The code was removed by DSX for sharing."
        }, 
        {
            "execution_count": 4, 
            "cell_type": "code", 
            "metadata": {
                "collapsed": true
            }, 
            "outputs": [], 
            "source": "# The code was removed by DSX for sharing."
        }, 
        {
            "execution_count": null, 
            "cell_type": "code", 
            "metadata": {
                "collapsed": true
            }, 
            "outputs": [], 
            "source": ""
        }
    ], 
    "metadata": {
        "kernelspec": {
            "display_name": "R with Spark 2.1", 
            "name": "r-spark21", 
            "language": "R"
        }, 
        "language_info": {
            "mimetype": "text/x-r-source", 
            "version": "3.3.2", 
            "name": "R", 
            "pygments_lexer": "r", 
            "file_extension": ".r", 
            "codemirror_mode": "r"
        }
    }, 
    "nbformat": 4
}