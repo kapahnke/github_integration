{
    "nbformat_minor": 0, 
    "metadata": {
        "kernelspec": {
            "name": "python2", 
            "display_name": "Python 2", 
            "language": "python"
        }
    }, 
    "cells": [
        {
            "outputs": [], 
            "source": "", 
            "metadata": {
                "collapsed": true
            }, 
            "cell_type": "code", 
            "execution_count": null
        }
    ], 
    "nbformat": 4
}