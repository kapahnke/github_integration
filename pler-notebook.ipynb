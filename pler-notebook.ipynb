{
    "nbformat": 4, 
    "nbformat_minor": 0, 
    "metadata": {
        "kernelspec": {
            "language": "python", 
            "name": "python2", 
            "display_name": "Python 2"
        }
    }, 
    "cells": [
        {
            "source": "", 
            "execution_count": null, 
            "outputs": [], 
            "metadata": {
                "collapsed": true
            }, 
            "cell_type": "code"
        }
    ]
}