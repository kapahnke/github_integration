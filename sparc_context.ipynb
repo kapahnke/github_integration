{
    "nbformat_minor": 0, 
    "cells": [
        {
            "outputs": [
                {
                    "data": {
                        "text/plain": "<pyspark.context.SparkContext at 0x7f1492b75a90>"
                    }, 
                    "output_type": "execute_result", 
                    "execution_count": 1, 
                    "metadata": {}
                }
            ], 
            "source": "sc", 
            "execution_count": 1, 
            "cell_type": "code", 
            "metadata": {
                "collapsed": false
            }
        }, 
        {
            "outputs": [
                {
                    "data": {
                        "text/plain": "'2.0.2'"
                    }, 
                    "output_type": "execute_result", 
                    "execution_count": 2, 
                    "metadata": {}
                }
            ], 
            "source": "sc.version", 
            "execution_count": 2, 
            "cell_type": "code", 
            "metadata": {
                "collapsed": false
            }
        }, 
        {
            "outputs": [], 
            "source": "", 
            "execution_count": null, 
            "cell_type": "code", 
            "metadata": {
                "collapsed": true
            }
        }
    ], 
    "nbformat": 4, 
    "metadata": {
        "kernelspec": {
            "name": "python3-spark20", 
            "language": "python", 
            "display_name": "Python 3.5 (Experimental) with Spark 2.0"
        }, 
        "language_info": {
            "name": "python", 
            "pygments_lexer": "ipython3", 
            "mimetype": "text/x-python", 
            "nbconvert_exporter": "python", 
            "file_extension": ".py", 
            "codemirror_mode": {
                "name": "ipython", 
                "version": 3
            }, 
            "version": "3.5.2"
        }
    }
}