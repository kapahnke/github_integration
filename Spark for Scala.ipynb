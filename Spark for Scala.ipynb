{
    "nbformat": 4, 
    "nbformat_minor": 0, 
    "metadata": {
        "language_info": {
            "name": "scala", 
            "version": "2.11.8"
        }, 
        "kernelspec": {
            "language": "scala", 
            "name": "scala-spark20", 
            "display_name": "Scala 2.11 with Spark 2.0"
        }
    }, 
    "cells": [
        {
            "source": "# Use Spark for Scala to load data and run SQL queries\nThis notebook introduces basic Spark concepts and helps you to start using Spark for Scala.\n\nSome familiarity with Scala is recommended.\n\nIn this notebook, you'll use the publicly available **mtcars** data set from *Motor Trend* magazine to learn some basic Scala. You'll learn how to load data, create a Spark DataFrame, aggregate data, run mathematical formulas, and run SQL queries against the data.\n", 
            "metadata": {}, 
            "cell_type": "markdown"
        }, 
        {
            "source": "## Table of contents\nThis notebook contains these main sections:\n\n1. [Load a DataFrame](#Load_a_DataFrame)\n2. [Initialize an SQLContext](#Initialize_an_SQLContext)\n3. [Create a Spark DataFrame](#Create_a_Spark_DataFrame)\n4. [Aggregate data after grouping by columns](#Aggregate_data_after_grouping_by_columns)\n5. [Operate on columns](#Operate_on_columns)\n6. [Run SQL queries from the Spark DataFrame](#Run_SQL_queries_from_the_Spark_DataFrame)", 
            "metadata": {}, 
            "cell_type": "markdown"
        }, 
        {
            "source": "<a id='Load_a_DataFrame'></a>\n## 1. Load a DataFrame\nA DataFrame is a distributed collection of data that is organized into named columns. The local Scala DataFrame called **mtcars** includes observations on the following 11 variables:\n\n`[, 1]\tmpg     Miles / (US) gallon`  \n`[, 2]\tcyl     Number of cylinders`  \n`[, 3]\tdisp\tDisplacement (cu. in.)`  \n`[, 4]\thp      Gross horsepower`  \n`[, 5]\tdrat    Rear axle ratio`  \n`[, 6]\twt      Weight (1000 lbs)`  \n`[, 7]\tqsec    1/4 mile time (seconds)`  \n`[, 8]\tvs      0 = V-engine, 1 = straight engine`  \n`[, 9]\tam      Transmission (0 = automatic, 1 = manual)`  \n`[,10]\tgear    Number of forward gears`  \n`[,11]\tcarb    Number of carburetors`", 
            "metadata": {}, 
            "cell_type": "markdown"
        }, 
        {
            "source": "import sys.process._\nimport java.net.URL\nimport java.io.File\n\ndef fileDownloader(url: String, filename: String) = {\n    new URL(url) #> new File(filename) !!\n}\n\nfileDownloader(\"https://ibm.box.com/shared/static/f1dhhjnzjwxmy2c1ys2whvrgz05d1pui.csv\", \"mtcars.csv\")", 
            "execution_count": 1, 
            "outputs": [
                {
                    "execution_count": 1, 
                    "data": {
                        "text/plain": "\"\""
                    }, 
                    "output_type": "execute_result", 
                    "metadata": {}
                }
            ], 
            "metadata": {
                "collapsed": false
            }, 
            "cell_type": "code"
        }, 
        {
            "source": "<a id='Initialize_an_SQLContext'></a>\n## 2. Initialize an SQLContext\nTo work with a DataFrame, you need an SQLContext. You create this SQLContext by using `SQLContext(sc)`. A SparkContext named sc, which has been created for you, is used to initialize the SQLContext:", 
            "metadata": {}, 
            "cell_type": "markdown"
        }, 
        {
            "source": "import au.com.bytecode.opencsv.CSVParser\nval sqlContext = new org.apache.spark.sql.SQLContext(sc)\nimport sqlContext.implicits._", 
            "execution_count": 2, 
            "outputs": [], 
            "metadata": {
                "collapsed": false
            }, 
            "cell_type": "code"
        }, 
        {
            "source": "<a id='Create_a_Spark_DataFrame'></a>\n## 3. Create a Spark DataFrame\nUsing the SQLContext and the loaded local DataFrame, create a Spark DataFrame and print the schema, or structure, of the DataFrame:", 
            "metadata": {}, 
            "cell_type": "markdown"
        }, 
        {
            "source": "// Define the schema using a case class.\ncase class Cars(car: String, mpg: String, cyl: String, disp: String, hp: String, drat: String,\n wt: String, qsec: String, vs: String, am: String, gear: String, carb: String);", 
            "execution_count": 3, 
            "outputs": [], 
            "metadata": {
                "collapsed": false
            }, 
            "cell_type": "code"
        }, 
        {
            "source": "val csv = sc.textFile(\"mtcars.csv\")\nval headerAndRows = csv.map(line => line.split(\",\").map(_.trim))\nval header = headerAndRows.first\nval data = headerAndRows.filter(_(0) != header(0))\nval mtcars = data.map(p => Cars(p(0), p(1), p(2), p(3), p(4), p(5), p(6), p(7), p(8), p(9), p(10), p(11))).toDF()\nmtcars.printSchema", 
            "execution_count": 4, 
            "outputs": [
                {
                    "output_type": "stream", 
                    "name": "stdout", 
                    "text": "root\n |-- car: string (nullable = true)\n |-- mpg: string (nullable = true)\n |-- cyl: string (nullable = true)\n |-- disp: string (nullable = true)\n |-- hp: string (nullable = true)\n |-- drat: string (nullable = true)\n |-- wt: string (nullable = true)\n |-- qsec: string (nullable = true)\n |-- vs: string (nullable = true)\n |-- am: string (nullable = true)\n |-- gear: string (nullable = true)\n |-- carb: string (nullable = true)\n\n"
                }
            ], 
            "metadata": {
                "collapsed": false, 
                "scrolled": true
            }, 
            "cell_type": "code"
        }, 
        {
            "source": "Display the content of the Spark DataFrame:", 
            "metadata": {}, 
            "cell_type": "markdown"
        }, 
        {
            "source": "mtcars.show(32)", 
            "execution_count": 5, 
            "outputs": [
                {
                    "output_type": "stream", 
                    "name": "stdout", 
                    "text": "+-------------------+----+---+-----+---+----+-----+-----+---+---+----+----+\n|                car| mpg|cyl| disp| hp|drat|   wt| qsec| vs| am|gear|carb|\n+-------------------+----+---+-----+---+----+-----+-----+---+---+----+----+\n|          Mazda RX4|  21|  6|  160|110| 3.9| 2.62|16.46|  0|  1|   4|   4|\n|      Mazda RX4 Wag|  21|  6|  160|110| 3.9|2.875|17.02|  0|  1|   4|   4|\n|         Datsun 710|22.8|  4|  108| 93|3.85| 2.32|18.61|  1|  1|   4|   1|\n|     Hornet 4 Drive|21.4|  6|  258|110|3.08|3.215|19.44|  1|  0|   3|   1|\n|  Hornet Sportabout|18.7|  8|  360|175|3.15| 3.44|17.02|  0|  0|   3|   2|\n|            Valiant|18.1|  6|  225|105|2.76| 3.46|20.22|  1|  0|   3|   1|\n|         Duster 360|14.3|  8|  360|245|3.21| 3.57|15.84|  0|  0|   3|   4|\n|          Merc 240D|24.4|  4|146.7| 62|3.69| 3.19|   20|  1|  0|   4|   2|\n|           Merc 230|22.8|  4|140.8| 95|3.92| 3.15| 22.9|  1|  0|   4|   2|\n|           Merc 280|19.2|  6|167.6|123|3.92| 3.44| 18.3|  1|  0|   4|   4|\n|          Merc 280C|17.8|  6|167.6|123|3.92| 3.44| 18.9|  1|  0|   4|   4|\n|         Merc 450SE|16.4|  8|275.8|180|3.07| 4.07| 17.4|  0|  0|   3|   3|\n|         Merc 450SL|17.3|  8|275.8|180|3.07| 3.73| 17.6|  0|  0|   3|   3|\n|        Merc 450SLC|15.2|  8|275.8|180|3.07| 3.78|   18|  0|  0|   3|   3|\n| Cadillac Fleetwood|10.4|  8|  472|205|2.93| 5.25|17.98|  0|  0|   3|   4|\n|Lincoln Continental|10.4|  8|  460|215|   3|5.424|17.82|  0|  0|   3|   4|\n|  Chrysler Imperial|14.7|  8|  440|230|3.23|5.345|17.42|  0|  0|   3|   4|\n|           Fiat 128|32.4|  4| 78.7| 66|4.08|  2.2|19.47|  1|  1|   4|   1|\n|        Honda Civic|30.4|  4| 75.7| 52|4.93|1.615|18.52|  1|  1|   4|   2|\n|     Toyota Corolla|33.9|  4| 71.1| 65|4.22|1.835| 19.9|  1|  1|   4|   1|\n|      Toyota Corona|21.5|  4|120.1| 97| 3.7|2.465|20.01|  1|  0|   3|   1|\n|   Dodge Challenger|15.5|  8|  318|150|2.76| 3.52|16.87|  0|  0|   3|   2|\n|        AMC Javelin|15.2|  8|  304|150|3.15|3.435| 17.3|  0|  0|   3|   2|\n|         Camaro Z28|13.3|  8|  350|245|3.73| 3.84|15.41|  0|  0|   3|   4|\n|   Pontiac Firebird|19.2|  8|  400|175|3.08|3.845|17.05|  0|  0|   3|   2|\n|          Fiat X1-9|27.3|  4|   79| 66|4.08|1.935| 18.9|  1|  1|   4|   1|\n|      Porsche 914-2|  26|  4|120.3| 91|4.43| 2.14| 16.7|  0|  1|   5|   2|\n|       Lotus Europa|30.4|  4| 95.1|113|3.77|1.513| 16.9|  1|  1|   5|   2|\n|     Ford Pantera L|15.8|  8|  351|264|4.22| 3.17| 14.5|  0|  1|   5|   4|\n|       Ferrari Dino|19.7|  6|  145|175|3.62| 2.77| 15.5|  0|  1|   5|   6|\n|      Maserati Bora|  15|  8|  301|335|3.54| 3.57| 14.6|  0|  1|   5|   8|\n|         Volvo 142E|21.4|  4|  121|109|4.11| 2.78| 18.6|  1|  1|   4|   2|\n+-------------------+----+---+-----+---+----+-----+-----+---+---+----+----+\n\n"
                }
            ], 
            "metadata": {
                "collapsed": false, 
                "scrolled": true
            }, 
            "cell_type": "code"
        }, 
        {
            "source": "Try different ways of retrieving subsets of the data. For example, get the first 5 values in the **mpg** column:", 
            "metadata": {}, 
            "cell_type": "markdown"
        }, 
        {
            "source": "mtcars.select(\"mpg\").show(5)", 
            "execution_count": 6, 
            "outputs": [
                {
                    "output_type": "stream", 
                    "name": "stdout", 
                    "text": "+----+\n| mpg|\n+----+\n|  21|\n|  21|\n|22.8|\n|21.4|\n|18.7|\n+----+\nonly showing top 5 rows\n\n"
                }
            ], 
            "metadata": {
                "collapsed": false, 
                "scrolled": true
            }, 
            "cell_type": "code"
        }, 
        {
            "source": "Filter the DataFrame to retain only rows with **mpg** values that are less than 18:", 
            "metadata": {}, 
            "cell_type": "markdown"
        }, 
        {
            "source": "mtcars.filter(mtcars(\"mpg\") < 18).show()", 
            "execution_count": 7, 
            "outputs": [
                {
                    "output_type": "stream", 
                    "name": "stdout", 
                    "text": "+-------------------+----+---+-----+---+----+-----+-----+---+---+----+----+\n|                car| mpg|cyl| disp| hp|drat|   wt| qsec| vs| am|gear|carb|\n+-------------------+----+---+-----+---+----+-----+-----+---+---+----+----+\n|         Duster 360|14.3|  8|  360|245|3.21| 3.57|15.84|  0|  0|   3|   4|\n|          Merc 280C|17.8|  6|167.6|123|3.92| 3.44| 18.9|  1|  0|   4|   4|\n|         Merc 450SE|16.4|  8|275.8|180|3.07| 4.07| 17.4|  0|  0|   3|   3|\n|         Merc 450SL|17.3|  8|275.8|180|3.07| 3.73| 17.6|  0|  0|   3|   3|\n|        Merc 450SLC|15.2|  8|275.8|180|3.07| 3.78|   18|  0|  0|   3|   3|\n| Cadillac Fleetwood|10.4|  8|  472|205|2.93| 5.25|17.98|  0|  0|   3|   4|\n|Lincoln Continental|10.4|  8|  460|215|   3|5.424|17.82|  0|  0|   3|   4|\n|  Chrysler Imperial|14.7|  8|  440|230|3.23|5.345|17.42|  0|  0|   3|   4|\n|   Dodge Challenger|15.5|  8|  318|150|2.76| 3.52|16.87|  0|  0|   3|   2|\n|        AMC Javelin|15.2|  8|  304|150|3.15|3.435| 17.3|  0|  0|   3|   2|\n|         Camaro Z28|13.3|  8|  350|245|3.73| 3.84|15.41|  0|  0|   3|   4|\n|     Ford Pantera L|15.8|  8|  351|264|4.22| 3.17| 14.5|  0|  1|   5|   4|\n|      Maserati Bora|  15|  8|  301|335|3.54| 3.57| 14.6|  0|  1|   5|   8|\n+-------------------+----+---+-----+---+----+-----+-----+---+---+----+----+\n\n"
                }
            ], 
            "metadata": {
                "collapsed": false
            }, 
            "cell_type": "code"
        }, 
        {
            "source": "<a id='Aggregate_data_after_grouping_by_columns'></a>\n## 4. Aggregate data after grouping by columns\nSpark DataFrames support a number of common functions to aggregate data after grouping. For example, you can compute the average weight of cars as a function of the number of cylinders:", 
            "metadata": {}, 
            "cell_type": "markdown"
        }, 
        {
            "source": "import org.apache.spark.sql.functions._\nmtcars.groupBy(\"cyl\").agg(avg(\"wt\")).show()", 
            "execution_count": 8, 
            "outputs": [
                {
                    "output_type": "stream", 
                    "name": "stdout", 
                    "text": "+---+-----------------+\n|cyl|          avg(wt)|\n+---+-----------------+\n|  8|3.999214285714286|\n|  6|3.117142857142857|\n|  4|2.285727272727273|\n+---+-----------------+\n\n"
                }
            ], 
            "metadata": {
                "collapsed": false
            }, 
            "cell_type": "code"
        }, 
        {
            "source": "<p>You can also sort the output from the aggregation to determine the most popular cylinder configuration in the DataFrame:</p>", 
            "metadata": {}, 
            "cell_type": "markdown"
        }, 
        {
            "source": "mtcars.groupBy(\"cyl\").agg(count(\"wt\")).sort($\"count(wt)\".desc).show()", 
            "execution_count": 9, 
            "outputs": [
                {
                    "output_type": "stream", 
                    "name": "stdout", 
                    "text": "+---+---------+\n|cyl|count(wt)|\n+---+---------+\n|  8|       14|\n|  4|       11|\n|  6|        7|\n+---+---------+\n\n"
                }
            ], 
            "metadata": {
                "collapsed": false
            }, 
            "cell_type": "code"
        }, 
        {
            "source": "<a id='Operate_on_columns'></a>\n## 5. Operate on columns\nScala provides a number of functions that you can apply directly to columns for data processing. In the following example, a basic arithmetic function converts lbs to metric tons:", 
            "metadata": {}, 
            "cell_type": "markdown"
        }, 
        {
            "source": "mtcars.withColumn(\"wtTon\", mtcars(\"wt\") * 0.45).select((\"car\"),(\"wt\"),(\"wtTon\")).show(6)", 
            "execution_count": 10, 
            "outputs": [
                {
                    "output_type": "stream", 
                    "name": "stdout", 
                    "text": "+-----------------+-----+-------+\n|              car|   wt|  wtTon|\n+-----------------+-----+-------+\n|        Mazda RX4| 2.62|  1.179|\n|    Mazda RX4 Wag|2.875|1.29375|\n|       Datsun 710| 2.32|  1.044|\n|   Hornet 4 Drive|3.215|1.44675|\n|Hornet Sportabout| 3.44|  1.548|\n|          Valiant| 3.46|  1.557|\n+-----------------+-----+-------+\nonly showing top 6 rows\n\n"
                }
            ], 
            "metadata": {
                "collapsed": false
            }, 
            "cell_type": "code"
        }, 
        {
            "source": "<a id='Run_SQL_queries_from_the_Spark_DataFrame'></a>\n## 6. Run SQL queries from the Spark DataFrame\nYou can register a Spark DataFrame as a temporary table and then run SQL queries over the data. The `sql` function enables an application to run SQL queries programmatically and returns the result as a DataFrame:", 
            "metadata": {}, 
            "cell_type": "markdown"
        }, 
        {
            "source": "mtcars.registerTempTable(\"cars\")\n\nval highgearcars = sqlContext.sql(\"SELECT car, gear FROM cars WHERE gear >= 5\")\nhighgearcars.show()", 
            "execution_count": 11, 
            "outputs": [
                {
                    "output_type": "stream", 
                    "name": "stdout", 
                    "text": "+--------------+----+\n|           car|gear|\n+--------------+----+\n| Porsche 914-2|   5|\n|  Lotus Europa|   5|\n|Ford Pantera L|   5|\n|  Ferrari Dino|   5|\n| Maserati Bora|   5|\n+--------------+----+\n\n"
                }
            ], 
            "metadata": {
                "collapsed": false
            }, 
            "cell_type": "code"
        }, 
        {
            "source": "## That's it!\nYou successfully completed this notebook! You learned how to load a DataFrame, view and filter the data, aggregate the data, perform operations on the data in specific columns, and run SQL queries against the data. For more information about Spark, see the [Spark Quick Start Guide](http://spark.apache.org/docs/latest/quick-start.html).", 
            "metadata": {
                "collapsed": true
            }, 
            "cell_type": "markdown"
        }, 
        {
            "source": "### Authors\n\n**Saeed Aghabozorgi**, PhD, is a Data Scientist in IBM with a track record of developing enterprise-level applications that substantially increases clients' ability to turn data into actionable knowledge. He is a researcher in the data mining field and an expert in developing advanced analytic methods like machine learning and statistical modelling on large data sets.\n\n**Polong Lin** is a Data Scientist at IBM in Canada. Under the Emerging Technologies division, Polong is responsible for educating the next generation of data scientists through Big Data University. Polong is a regular speaker in conferences and meetups, and holds an M.Sc. in Cognitive Psychology.", 
            "metadata": {}, 
            "cell_type": "markdown"
        }
    ]
}