{
    "metadata": {
        "kernelspec": {
            "name": "python3", 
            "display_name": "Python 3.5 (Experimental) with Spark 1.6", 
            "language": "python"
        }, 
        "celltoolbar": "Raw Cell Format", 
        "language_info": {
            "version": "3.5.2", 
            "codemirror_mode": {
                "version": 3, 
                "name": "ipython"
            }, 
            "mimetype": "text/x-python", 
            "pygments_lexer": "ipython3", 
            "file_extension": ".py", 
            "name": "python", 
            "nbconvert_exporter": "python"
        }
    }, 
    "cells": [
        {
            "metadata": {
                "collapsed": false
            }, 
            "cell_type": "code", 
            "outputs": [], 
            "execution_count": null, 
            "source": "!pip show brunel"
        }, 
        {
            "metadata": {}, 
            "cell_type": "markdown", 
            "source": "# Visualize car data with Brunel"
        }, 
        {
            "metadata": {}, 
            "cell_type": "markdown", 
            "source": "The Brunel Visualization language makes it easy to build interactive charts and diagrams that you can deploy rapidly. This notebook contains the steps and code to get you started with visualizing data with Brunel.\n\nSome familiarity with Python is recommended. \n\nYou will use data about cars to graph the relationships between various properties, for example, how horsepower affects gas mileage. The cars data set was used for the 1983 American Statistical Association Data Exposition. This data set was collected by Ernesto Ramos and David Donoho and obtained from StatLib.\n\n## Table of contents\n\nThis notebook has the following sections:\n1. [Load the data](#data_set)\n1. [Visualize the data](#visualize)\n1. [Modify the DataFrame to highlight specific data](#highlight)\n1. [Summary and next steps](#summary)"
        }, 
        {
            "metadata": {}, 
            "cell_type": "markdown", 
            "source": "<a id=\"data_set\"></a>\n## 1. Load the data \nThe car data is a freely available data set on the Data Science Experience home page.\n\n1. Go to the <a href=\"https://apsportal.ibm.com/exchange/public/entry/view/c81e9be8daf6941023b9dc86f303053b\" target=\"_blank\">Car performance data</a> card on the Data Science Experience home page.\n1. Click the link button.\n1. Hover above the link button next to the access key to display the link.\n1. Double-click the link to select it, copy the link, and click **Close**.\n1. In the cell below, replace the **LINK-TO-DATA** string in the read_csv() method with the link.\n\n \nRun the next cell to import pandas and Brunel libraries, load the data into a pandas DataFrame, and display the first five rows of data:"
        }, 
        {
            "metadata": {
                "collapsed": false
            }, 
            "cell_type": "code", 
            "outputs": [], 
            "execution_count": null, 
            "source": "import pandas as pd\nimport brunel\n\ncars = pd.read_csv(\"https://apsportal.ibm.com/exchange-api/v1/entries/c81e9be8daf6941023b9dc86f303053b/data?accessKey=f65fafad2235fe976ababdb6800db44d\",\n                   usecols=['mpg','cylinders','engine','horsepower','weight','acceleration','year','origin','name'])\n\ncars.head(6)"
        }, 
        {
            "metadata": {}, 
            "cell_type": "markdown", 
            "source": "<a id=\"visualize\"></a>\n## 2. Visualize the data\nYou'll create some charts and diagrams with Brunel commands.\n\nThe basic format of each call to Brunel is simple. Whether the command is a single line or a set of lines, the commands are concatenated together and the result interpreted as one command.\n\nHere are some of the rules for using Brunel that you'll need in this notebook:\n * __DataFrame__: Use the `data` command to specify the pandas DataFrame. \n * __Chart type__: Use commands like `chord` and `treemap` to specify a chart type. If you don't specify a type, the default chart type is a scatterplot. \n * __Chart definition__: Use the `x` and `y` commands to specify the data to include on the x-axis and the y-axis.\n * __Styling__: Use commands like `color`, `tooltip`, and `label` to control the styling of the graph.\n * __Size__: Use the `width` and `height` key-value pairs to specify the size of the graph. The key-value pairs must be preceded with two colons and separated with a comma, for example: `:: width=800, height=300`\n \nSee detailed documentation on the Brunel Visualization language at __[Introduction to Brunel](http://brunel.mybluemix.net/docs/)__.\n\n### Scatter plots\nRun the next cell to show the relationship between the miles per gallon and the horsepower of the vehicles in a scatter plot. The color identifies the origin of the vehicles. "
        }, 
        {
            "metadata": {
                "scrolled": true, 
                "collapsed": false
            }, 
            "cell_type": "code", 
            "outputs": [], 
            "execution_count": null, 
            "source": "%brunel data('cars') x(mpg) y(horsepower) color(origin) :: width=800, height=300"
        }, 
        {
            "metadata": {}, 
            "cell_type": "markdown", 
            "source": "Put your cursor over the chart and scroll to zoom in and out. When you zoom in, you can pan across the chart by clicking and dragging. \n\nRun the next cell to show the relationship between the horsepower and the weight of the cars in a scatter plot. The color is based on the origin of the cars. The tooltips show the name of the cars. "
        }, 
        {
            "metadata": {
                "collapsed": false
            }, 
            "cell_type": "code", 
            "outputs": [], 
            "execution_count": null, 
            "source": "%brunel data('cars') x(horsepower) y(weight) color(origin) tooltip(name) :: width=800, height=300"
        }, 
        {
            "metadata": {}, 
            "cell_type": "markdown", 
            "source": "### Chord plot\nRun the next cell to show a chord plot that correlates the origin and number of cars produced per year. The x and y commands specify that the origin is mapped to the year of manufacture. The size of the segments is based on the number of cars. The color is based on the origin of the cars."
        }, 
        {
            "metadata": {
                "collapsed": false
            }, 
            "cell_type": "code", 
            "outputs": [], 
            "execution_count": null, 
            "source": "%brunel data('cars') x(origin) y(year) chord size(#count) color(origin) :: width=500, height=400"
        }, 
        {
            "metadata": {}, 
            "cell_type": "markdown", 
            "source": "### Treemap\nA treemap can show many dimensions as recursively divided rectangles.\n\nRun the next cell to show a treemap that groups vehicles by their origin, year of manufacture, and number of cylinders. The color indicates the average gas mileage of the vehicles in each block. The numbers in each block are the number of cylinders. The size of the blocks reflects the number of vehicles in the category. The tooltips show all the information."
        }, 
        {
            "metadata": {
                "collapsed": false
            }, 
            "cell_type": "code", 
            "outputs": [], 
            "execution_count": null, 
            "source": "%brunel data('cars') treemap x(origin, year, cylinders) color(mpg) mean(mpg) size(#count) label(cylinders) tooltip(#all):: width=900, height=600"
        }, 
        {
            "metadata": {}, 
            "cell_type": "markdown", 
            "source": "<a id=\"highlight\"></a>\n## 3. Modify the DataFrame to highlight specific data\nYou can modify or add to the DataFrame to show data in different ways. In the following example, you apply a function that takes a string and tests whether it matches one of a set of substrings. The function maps to the names column to create a new column that consists of the names that match either \"Ford\" or \"Buick\". "
        }, 
        {
            "metadata": {
                "collapsed": true
            }, 
            "cell_type": "code", 
            "outputs": [], 
            "execution_count": null, 
            "source": "def identify(x, search): \n    for y in search: \n        if y.lower() in x.lower(): return y\n    return None\n\ncars['Type'] = cars.name.map(lambda x: identify(x, [\"Ford\", \"Buick\"]))"
        }, 
        {
            "metadata": {}, 
            "cell_type": "markdown", 
            "source": "Run the next cell to create a scatter chart that plots gas mileage versus engine size. The Buick cars have blue dots and the Ford cars have red dots. The Brunel command is split into two chart definitions that are combined by the overlay operator (a plus sign). Both chart definitions set the x-axis, the y-axis, and the color to the same values but set the style to different values. The first chart definition sets the style of the dots and the second definition sets the style of the words in the legend. The last line of the command sets the width and height of the chart."
        }, 
        {
            "metadata": {
                "collapsed": false
            }, 
            "cell_type": "code", 
            "outputs": [], 
            "execution_count": null, 
            "source": "%%brunel data('cars') x(engine) y(mpg) color(Type)  style('size:50%; fill:#eee') +\n     x(engine) y(mpg) color(Type) style('text {font-size:14; font-weight:bold; fill:darker}') \n     :: width=800, height=800"
        }, 
        {
            "metadata": {}, 
            "cell_type": "markdown", 
            "source": "<a id=\"summary\"></a>\n## 4. Summary and next steps\nYou explored different types of charts and formatting and learned how you can use the pandas DataFrame to refine your charts. Try changing the formatting of these charts, or creating your own. \n\nFor more information about the Brunel Visualization language, see __[Introduction to Brunel](http://brunel.mybluemix.net/docs/)__.\n\nAlso read the Brunel blog at __[Working Vis - Perspectives on Actionable Visualization](http://brunelvis.org/)__.\n\n### Authors\n\nDan Rope and Graham Wills are visualization architects at IBM. They created the Brunel visualization language."
        }, 
        {
            "metadata": {
                "collapsed": false
            }, 
            "cell_type": "code", 
            "outputs": [], 
            "execution_count": null, 
            "source": "import matplotlib\n%matplotlib inline\nimport matplotlib.pyplot as plt"
        }, 
        {
            "metadata": {
                "collapsed": false
            }, 
            "cell_type": "code", 
            "outputs": [], 
            "execution_count": null, 
            "source": "from pylab import plot, show, bar\n \ny = [3,5,9,2,6,4,7,8,1,5]   # a list of numbers\nplot(y)                     # draw the graph\nshow()                      # show it to me!"
        }, 
        {
            "metadata": {
                "collapsed": false
            }, 
            "cell_type": "code", 
            "outputs": [], 
            "execution_count": null, 
            "source": " \n#   Range of scales between freezing to boiling water\nF = [32,212]                    # Fahrenheit\nC = [0,100]                     # Centigrade\n \nplt.title('Convert Centigrade / Fahrenheit')\nplt.ylabel('degrees Centigrade')\nplt.xlabel('degrees Fahrenheit')\nplt.xlim(32,212)                # try commenting this out...\nplt.grid(True)\n \nplt.plot(F,C)\nplt.show()"
        }, 
        {
            "metadata": {
                "collapsed": false
            }, 
            "cell_type": "code", 
            "outputs": [], 
            "execution_count": null, 
            "source": "import matplotlib.pyplot as plt\nfrom math import sin, cos, pi\n \nnpoints=50\nx = [x*2*pi/npoints for x in range(npoints+1)]\ny1 = [sin(t) for t in x]\ny2 = [cos(t) for t in x]\n \nplt.figure(figsize=(10, 5))\nplt.title('Sine & Cosine')\nplt.xlabel('t (radians)')\nplt.ylabel('red: sin (t), blue: cos (t)')\nplt.grid(True)\nplt.xlim(0,2*pi)\nplt.ylim(-1.1,1.1)\n \nplt.plot(x, y1, color=\"red\", label=\"sine\")\nplt.plot(x, y2, color=\"blue\", label=\"cosine\")\nplt.legend()\n \nplt.show()"
        }, 
        {
            "metadata": {
                "collapsed": false
            }, 
            "cell_type": "code", 
            "outputs": [], 
            "execution_count": null, 
            "source": "#   Mplot3d.py\n#   Adapted from http://matplotlib.org/mpl_toolkits/mplot3d/\n \nfrom mpl_toolkits.mplot3d import Axes3D\nfrom matplotlib import cm   # colour map\nimport matplotlib.pyplot as plt\nimport numpy as np          # http://www.numpy.org/\n \nax = Axes3D(plt.figure())\n \n#   http://docs.scipy.org/doc/numpy/reference/generated/numpy.arange.html\nX = np.arange(-5, 5, 0.25)  # Return evenly spaced values within an interval\nY = np.arange(-5, 5, 0.25)\n \n#   http://docs.scipy.org/doc/numpy/reference/generated/numpy.meshgrid.html\nX, Y = np.meshgrid(X, Y)    # Return coordinate matrices from coordinate vectors\nR = np.sqrt(X**2 + Y**2)    # Square roots of squares\nZ = np.sin(R)               # Sine of that.\n \n#   http://matplotlib.org/mpl_toolkits/mplot3d/tutorial.html#surface-plots\nax.plot_surface(X, Y, Z, rstride=1, cstride=1, cmap=cm.jet)\n \nplt.show()"
        }, 
        {
            "metadata": {
                "collapsed": false
            }, 
            "cell_type": "code", 
            "outputs": [], 
            "execution_count": null, 
            "source": "!echo $BRUNEL_CONFIG"
        }, 
        {
            "metadata": {
                "collapsed": false
            }, 
            "cell_type": "code", 
            "outputs": [], 
            "execution_count": null, 
            "source": "!ls -la /usr/local/src/bluemix_jupyter_bundle/notebook/share/jupyter/nbextensions/brunel_ext_python3"
        }, 
        {
            "metadata": {
                "collapsed": false
            }, 
            "cell_type": "code", 
            "outputs": [], 
            "execution_count": null, 
            "source": "!echo $USER"
        }, 
        {
            "metadata": {
                "collapsed": false
            }, 
            "cell_type": "code", 
            "outputs": [], 
            "execution_count": null, 
            "source": "!ls -la /usr/local/src/conda3_runtime/4.1.1/lib/python3.5/site-packages/brunel/brunel_ext/"
        }, 
        {
            "metadata": {
                "collapsed": false
            }, 
            "cell_type": "code", 
            "outputs": [], 
            "execution_count": null, 
            "source": "!ls -la /usr/local/src/bluemix_jupyter_bundle/notebook/share/jupyter/nbextensions"
        }, 
        {
            "metadata": {
                "collapsed": true
            }, 
            "cell_type": "code", 
            "outputs": [], 
            "execution_count": null, 
            "source": ""
        }
    ], 
    "nbformat_minor": 0, 
    "nbformat": 4
}