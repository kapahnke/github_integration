{
    "nbformat_minor": 0, 
    "cells": [
        {
            "cell_type": "code", 
            "metadata": {
                "collapsed": true
            }, 
            "source": "", 
            "execution_count": null, 
            "outputs": []
        }
    ], 
    "metadata": {
        "kernelspec": {
            "display_name": "Python 3.5", 
            "language": "python", 
            "name": "python3-spark20"
        }
    }, 
    "nbformat": 4
}